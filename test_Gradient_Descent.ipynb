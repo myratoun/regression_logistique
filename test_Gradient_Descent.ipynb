{
 "cells": [
  {
   "cell_type": "code",
   "execution_count": 1,
   "id": "9fe14b73",
   "metadata": {},
   "outputs": [],
   "source": [
    "import numpy as np\n",
    "\n",
    "X = np.array([[0.5, 1.5], [1,1], [1.5, 0.5], [3, 0.5], [2, 2], [1, 2.5]])\n",
    "y = np.array([0, 0, 0, 1, 1, 1])"
   ]
  },
  {
   "cell_type": "code",
   "execution_count": 2,
   "id": "16fdfdb2",
   "metadata": {},
   "outputs": [
    {
     "data": {
      "text/plain": [
       "Text(0.5, 0, '$x_1$')"
      ]
     },
     "execution_count": 2,
     "metadata": {},
     "output_type": "execute_result"
    },
    {
     "data": {
      "image/png": "[encoded data removed]",
      "text/plain": [
       "<Figure size 640x480 with 1 Axes>"
      ]
     },
     "metadata": {},
     "output_type": "display_data"
    }
   ],
   "source": [
    "from lab_utils import plot_data\n",
    "import matplotlib.pyplot as plt\n",
    "\n",
    "plot_data(X,y)\n",
    "\n",
    "# Set both axes to be from 0-6\n",
    "plt.axis([0, 6, 0, 6])\n",
    "# Set the y-axis label\n",
    "plt.ylabel('$x_2$')\n",
    "# Set the x-axis label\n",
    "plt.xlabel('$x_1$')"
   ]
  },
  {
   "cell_type": "code",
   "execution_count": 3,
   "id": "caf36dd6",
   "metadata": {},
   "outputs": [
    {
     "name": "stdout",
     "output_type": "stream",
     "text": [
      "[[1.  0.5 1.5]\n",
      " [1.  1.  1. ]\n",
      " [1.  1.5 0.5]\n",
      " [1.  3.  0.5]\n",
      " [1.  2.  2. ]\n",
      " [1.  1.  2.5]]\n"
     ]
    }
   ],
   "source": [
    "# Add a column to X_orig to account for the w_0 term\n",
    "X_mod = np.hstack([np.ones((X.shape[0],1)), X])\n",
    "\n",
    "print(X_mod)"
   ]
  },
  {
   "cell_type": "code",
   "execution_count": 4,
   "id": "91cf7516",
   "metadata": {},
   "outputs": [
    {
     "name": "stdout",
     "output_type": "stream",
     "text": [
      "0.5\n"
     ]
    }
   ],
   "source": [
    "from lab_utils import sigmoid \n",
    "\n",
    "print(sigmoid(0))"
   ]
  },
  {
   "cell_type": "code",
   "execution_count": 5,
   "id": "1bed0821",
   "metadata": {},
   "outputs": [],
   "source": [
    "def compute_gradient(X, y, w):\n",
    "    # Here X is assumed to pre-processed with a column of ones added as x_0\n",
    "    m, n = X.shape\n",
    "    dw = np.zeros_like(w)\n",
    "    \n",
    "    for j in range(n):\n",
    "        gradient_list = []\n",
    "        \n",
    "        for i in range(m):        \n",
    "            ### START CODE HERE ### \n",
    "            z = np.dot(w.T, X[i])\n",
    "            f = sigmoid(z)\n",
    "            gradient = (f-y[i])*X[i][j]\n",
    "            ### END CODE HERE ### \n",
    "            gradient_list.append(gradient)\n",
    "        \n",
    "        dw[j] = (1/m)* sum(gradient_list)\n",
    "        \n",
    "    return dw"
   ]
  },
  {
   "cell_type": "code",
   "execution_count": 6,
   "id": "34de0940",
   "metadata": {},
   "outputs": [
    {
     "data": {
      "text/plain": [
       "array([ 0.        , -0.25      , -0.16666667])"
      ]
     },
     "execution_count": 6,
     "metadata": {},
     "output_type": "execute_result"
    }
   ],
   "source": [
    "w = np.zeros(3)\n",
    "compute_gradient(X_mod,y,w)"
   ]
  },
  {
   "cell_type": "markdown",
   "id": "3f14396d",
   "metadata": {},
   "source": [
    "# Vectorized version"
   ]
  },
  {
   "cell_type": "code",
   "execution_count": 7,
   "id": "ec47f197",
   "metadata": {},
   "outputs": [],
   "source": [
    "def compute_gradient_vectorized(X, y, w):\n",
    "    \n",
    "    m, n = X.shape\n",
    "    \n",
    "    ### START CODE HERE ### \n",
    "    z = np.dot(X, w)\n",
    "    f = sigmoid(z)\n",
    "    dw = (1/m)*np.dot(X.T, (f - y))\n",
    "    ### END CODE HERE ### \n",
    "    return dw"
   ]
  },
  {
   "cell_type": "code",
   "execution_count": 8,
   "id": "d82b6c79",
   "metadata": {},
   "outputs": [
    {
     "name": "stdout",
     "output_type": "stream",
     "text": [
      "Cost computed by non-vectorized version:  [ 0.         -0.25       -0.16666667]\n",
      "Cost computed by vectorized version:  [ 0.         -0.25       -0.16666667]\n"
     ]
    }
   ],
   "source": [
    "print(\"Cost computed by non-vectorized version: \", compute_gradient(X_mod, y, w))\n",
    "print(\"Cost computed by vectorized version: \", compute_gradient_vectorized(X_mod, y, w))"
   ]
  },
  {
   "cell_type": "code",
   "execution_count": null,
   "id": "08943a2f",
   "metadata": {},
   "outputs": [],
   "source": []
  }
 ],
 "metadata": {
  "kernelspec": {
   "display_name": "Python 3 (ipykernel)",
   "language": "python",
   "name": "python3"
  },
  "language_info": {
   "codemirror_mode": {
    "name": "ipython",
    "version": 3
   },
   "file_extension": ".py",
   "mimetype": "text/x-python",
   "name": "python",
   "nbconvert_exporter": "python",
   "pygments_lexer": "ipython3",
   "version": "3.11.5"
  }
 },
 "nbformat": 4,
 "nbformat_minor": 5
}
